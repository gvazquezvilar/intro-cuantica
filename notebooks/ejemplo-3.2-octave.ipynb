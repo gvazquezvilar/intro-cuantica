{
 "cells": [
  {
   "cell_type": "markdown",
   "id": "e5e44fb3",
   "metadata": {},
   "source": [
    "## Ejemplo 3.2: Matriz de densidad de probabilidad de una moneda no trucada"
   ]
  },
  {
   "cell_type": "markdown",
   "id": "71cd75b7",
   "metadata": {},
   "source": [
    "Consideremos el experimento de lanzar una moneda no trucada, y ocultar su resultado. Este experimento se corresponde con una distribución de probabilidad Bernoulli con parámetro $p= 1/2$. La matriz de densidad de probabilidad asociada a este experimento está dada por \n",
    "\\begin{align*}\n",
    "     \\rho_X = \\biggl[\\begin{matrix}1/2 & 0\\\\ 0 & 1/2\\end{matrix}\\biggr].\n",
    "\\end{align*}"
   ]
  },
  {
   "cell_type": "code",
   "execution_count": 8,
   "id": "e51496e6",
   "metadata": {},
   "outputs": [
    {
     "name": "stdout",
     "output_type": "stream",
     "text": [
      "rho_X =\n",
      "\n",
      "   0.5000        0\n",
      "        0   0.5000\n",
      "\n"
     ]
    }
   ],
   "source": [
    "% Definimos la matriz de de densidad de probabilidad correspondiente:\n",
    "rho_X = [ 1/2  0  ;  0  1/2 ]"
   ]
  },
  {
   "cell_type": "markdown",
   "id": "f68b2d6c",
   "metadata": {},
   "source": [
    "Este es un estado mixto, ya que $\\rho_X$ tiene rango $2 > 1$, y clásico, al ser $\\rho_X$ una matriz diagonal."
   ]
  },
  {
   "cell_type": "code",
   "execution_count": 14,
   "id": "6693906a",
   "metadata": {},
   "outputs": [
    {
     "name": "stdout",
     "output_type": "stream",
     "text": [
      "rango = 2\n",
      "matriz diagonal"
     ]
    }
   ],
   "source": [
    "% Podemos verificar su rango con el comando:\n",
    "rango = rank(rho_X)\n",
    "%  y si se trata de una matriz diagonal:\n",
    "if(isdiag(rho_X)), printf('matriz diagonal') else printf('matriz no diagonal') end"
   ]
  }
 ],
 "metadata": {
  "celltoolbar": "Raw Cell Format",
  "kernelspec": {
   "display_name": "Octave",
   "language": "octave",
   "name": "octave"
  },
  "language_info": {
   "file_extension": ".m",
   "help_links": [
    {
     "text": "GNU Octave",
     "url": "https://www.gnu.org/software/octave/support.html"
    },
    {
     "text": "Octave Kernel",
     "url": "https://github.com/Calysto/octave_kernel"
    },
    {
     "text": "MetaKernel Magics",
     "url": "https://metakernel.readthedocs.io/en/latest/source/README.html"
    }
   ],
   "mimetype": "text/x-octave",
   "name": "octave",
   "version": "8.2.0"
  }
 },
 "nbformat": 4,
 "nbformat_minor": 5
}
