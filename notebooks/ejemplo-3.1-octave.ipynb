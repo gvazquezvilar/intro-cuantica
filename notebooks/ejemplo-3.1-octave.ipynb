{
 "cells": [
  {
   "cell_type": "markdown",
   "id": "8989e2ba",
   "metadata": {},
   "source": [
    "## Ejemplo 3.1: Modelo de un fotón polarizado"
   ]
  },
  {
   "cell_type": "markdown",
   "id": "86c680f2",
   "metadata": {},
   "source": [
    "$\\newcommand{\\ket}[1]{|{#1}\\rangle}\\newcommand{\\bra}[1]{\\langle{#1}|}$El modelo de un fotón polarizado linealmente con un ángulo $\\theta$ se corresponde con un cúbit ya que para  $\\alpha=\\cos(\\theta)$ y $\\beta=\\sin(\\theta)$, se tiene que\n",
    "\\begin{align*}\n",
    "\\ket{\\psi} &= \\cos(\\theta) \\ket{0}  + \\sin(\\theta) \\ket{1}\n",
    "= \\begin{bmatrix}\\cos(\\theta)\\\\ \\sin(\\theta)\\end{bmatrix}.\n",
    "\\end{align*}"
   ]
  },
  {
   "cell_type": "code",
   "execution_count": 49,
   "id": "8a436d5a",
   "metadata": {
    "scrolled": true
   },
   "outputs": [
    {
     "name": "stdout",
     "output_type": "stream",
     "text": [
      "ket_psi =\n",
      "\n",
      "   0.9211\n",
      "   0.3894\n",
      "\n"
     ]
    }
   ],
   "source": [
    "% Base del espacio de estados cuanticos binarios\n",
    "ket0 = [1; 0];\n",
    "ket1 = [0; 1];\n",
    "\n",
    "% Modelo para un fotón con polarización lineal theta\n",
    "theta = 0.4;\n",
    "ket_psi = cos(theta)*ket0 + sin(theta)*ket1"
   ]
  },
  {
   "cell_type": "markdown",
   "id": "118fa2f3",
   "metadata": {},
   "source": [
    "Así, un fotón polarizado se puede interpretar como un vector con corrdenadas $\\cos(\\theta)$ y $\\sin(\\theta)$ en una base formada por los estados ortogonales $\\ket{0}$ y $\\ket{1}$, tal y como representamos en la siguiente figura:"
   ]
  },
  {
   "cell_type": "code",
   "execution_count": 51,
   "id": "e9cc4b3e",
   "metadata": {},
   "outputs": [
    {
     "data": {
      "image/png": "[encoded data removed]",
      "text/plain": [
       "<IPython.core.display.Image object>"
      ]
     },
     "metadata": {},
     "output_type": "display_data"
    }
   ],
   "source": [
    "% Representamos la circunferencia unidad como referencia:\n",
    "set(0, \"defaulttextfontsize\", 32)  % title\n",
    "set(0, \"defaultaxesfontsize\", 32)  % axes labels\n",
    "t = linspace(0,2*pi,100);\n",
    "plot(cos(t), sin(t), 'k-');\n",
    "\n",
    "% Representamos el estado cuántico ket_psi superpuesto\n",
    "hold on; plot([0;ket_psi(1)], [0;ket_psi(2)], 'k-', 'LineWidth', 2, ket_psi(1), ket_psi(2), 'ko', 'LineWidth', 2);\n",
    "axis ([-1.4, 1.4, -1.4, 1.4], \"square\"); grid on;\n",
    "text(ket_psi(1)+.1, ket_psi(2)+.1, '$|\\psi\\rangle$', 'Interpreter', 'Latex');\n",
    "xlabel('$|0\\rangle$', 'Interpreter', 'Latex');\n",
    "ylabel('$|1\\rangle$', 'Interpreter', 'Latex');"
   ]
  }
 ],
 "metadata": {
  "celltoolbar": "Raw Cell Format",
  "kernelspec": {
   "display_name": "Octave",
   "language": "octave",
   "name": "octave"
  },
  "language_info": {
   "file_extension": ".m",
   "help_links": [
    {
     "text": "GNU Octave",
     "url": "https://www.gnu.org/software/octave/support.html"
    },
    {
     "text": "Octave Kernel",
     "url": "https://github.com/Calysto/octave_kernel"
    },
    {
     "text": "MetaKernel Magics",
     "url": "https://metakernel.readthedocs.io/en/latest/source/README.html"
    }
   ],
   "mimetype": "text/x-octave",
   "name": "octave",
   "version": "8.2.0"
  }
 },
 "nbformat": 4,
 "nbformat_minor": 5
}
