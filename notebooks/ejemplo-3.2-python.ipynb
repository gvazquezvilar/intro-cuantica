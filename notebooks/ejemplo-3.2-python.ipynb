{
 "cells": [
  {
   "cell_type": "markdown",
   "id": "e5e44fb3",
   "metadata": {},
   "source": [
    "## Ejemplo 3.2: Matriz de densidad de probabilidad de una moneda no trucada"
   ]
  },
  {
   "cell_type": "markdown",
   "id": "71cd75b7",
   "metadata": {},
   "source": [
    "Consideremos el experimento de lanzar una moneda no trucada, y ocultar su resultado. Este experimento se corresponde con una distribución de probabilidad Bernoulli con parámetro $p= 1/2$. La matriz de densidad de probabilidad asociada a este experimento está dada por \n",
    "\\begin{align*}\n",
    "     \\rho_X = \\biggl[\\begin{matrix}1/2 & 0\\\\ 0 & 1/2\\end{matrix}\\biggr].\n",
    "\\end{align*}"
   ]
  },
  {
   "cell_type": "code",
   "execution_count": 5,
   "id": "e51496e6",
   "metadata": {},
   "outputs": [
    {
     "name": "stdout",
     "output_type": "stream",
     "text": [
      "rho_X =\n",
      " [[0.5 0. ]\n",
      " [0.  0.5]]\n"
     ]
    }
   ],
   "source": [
    "import numpy as np\n",
    "\n",
    "# Define the probability density matrix:\n",
    "rho_X = np.array([[1/2, 0], [0, 1/2]])\n",
    "print(\"rho_X =\\n\", str(rho_X))"
   ]
  },
  {
   "cell_type": "markdown",
   "id": "f68b2d6c",
   "metadata": {},
   "source": [
    "Este es un estado mixto, ya que $\\rho_X$ tiene rango $2 > 1$, y clásico, al ser $\\rho_X$ una matriz diagonal."
   ]
  },
  {
   "cell_type": "code",
   "execution_count": 7,
   "id": "6693906a",
   "metadata": {},
   "outputs": [
    {
     "name": "stdout",
     "output_type": "stream",
     "text": [
      "rango =  2\n",
      "matriz diagonal\n"
     ]
    }
   ],
   "source": [
    "# Verify the rank of rho_X\n",
    "rango = np.linalg.matrix_rank(rho_X)\n",
    "print(\"rango = \", rango)\n",
    "\n",
    "# Check if rho_X is a diagonal matrix\n",
    "if np.all(np.diag(np.diag(rho_X)) == rho_X):\n",
    "    print('matriz diagonal')\n",
    "else:\n",
    "    print('matriz no diagonal')"
   ]
  },
  {
   "cell_type": "code",
   "execution_count": null,
   "id": "d3fef7eb",
   "metadata": {},
   "outputs": [],
   "source": []
  }
 ],
 "metadata": {
  "celltoolbar": "Raw Cell Format",
  "kernelspec": {
   "display_name": "Python 3 (ipykernel)",
   "language": "python",
   "name": "python3"
  },
  "language_info": {
   "codemirror_mode": {
    "name": "ipython",
    "version": 3
   },
   "file_extension": ".py",
   "mimetype": "text/x-python",
   "name": "python",
   "nbconvert_exporter": "python",
   "pygments_lexer": "ipython3",
   "version": "3.10.11"
  }
 },
 "nbformat": 4,
 "nbformat_minor": 5
}
