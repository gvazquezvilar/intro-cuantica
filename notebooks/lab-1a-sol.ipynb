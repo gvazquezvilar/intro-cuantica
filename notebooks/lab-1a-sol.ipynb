{
 "cells": [
  {
   "cell_type": "markdown",
   "id": "41c2a31d",
   "metadata": {},
   "source": [
    "# Práctica 1: Simulando la medida de un fotón"
   ]
  },
  {
   "cell_type": "markdown",
   "id": "0ad9524d",
   "metadata": {},
   "source": [
    "$\\newcommand{\\ket}[1]{|{#1}\\rangle}\\newcommand{\\bra}[1]{\\langle{#1}|}\\DeclareMathOperator{\\Tr}{Tr}$Consideramos la medida de la polarización de un fotón de acuerdo al siguiente montaje experimental:\n",
    "\n",
    "![title](figs/medida-polarizacion.svg)\n",
    "\n",
    "Para simular este proceso, modelamos el fotón de la figura como una matriz de densidad de probabilidad $\\rho$, y el proceso de medida con respecto a las polarizaciones $\\leftrightarrow$ y $\\updownarrow$, a través del POVM:\n",
    "  \\begin{align}\n",
    "      \\Pi_{0} &= \\biggl[\\begin{matrix} 1&0\\\\0&0 \\end{matrix}\\biggr]    \n",
    "       &\\text{(polarización $\\leftrightarrow$),}\\\\\n",
    "      \\Pi_{1} &= \\biggl[\\begin{matrix} 0&0\\\\0&1 \\end{matrix}\\biggr]\n",
    "       &\\text{(polarización $\\updownarrow$).}\n",
    "  \\end{align}"
   ]
  },
  {
   "cell_type": "markdown",
   "id": "b1a2c15e",
   "metadata": {},
   "source": [
    "## 1. Medida de un estado puro\n",
    "\n",
    "Definimos el estado cuántico de un fotón con polarización lineal con un ángulo $\\theta$ como\n",
    "  \\begin{align}\n",
    "    \\ket{\\theta} = \\Biggl[\\begin{matrix}\\cos(\\theta)\\\\\n",
    "                                        \\sin(\\theta)\\end{matrix}\\Biggr]\n",
    "  \\end{align}\n",
    "de forma que la matriz de densidad de probabilidad correspondiente\n",
    "está dada por $\\rho = \\ket{\\theta}\\bra{\\theta}$.\n",
    "Entonces, las probabilidades de medir cada una de las polarizaciones \n",
    "$\\leftrightarrow$ y $\\updownarrow$ se corresponden a:\n",
    "  \\begin{align}\n",
    "    \\Pr\\{\\leftrightarrow\\} &= \\Tr\\left[ \\Pi_{0} \\rho \\right],\\quad\n",
    "    \\Pr\\{\\updownarrow\\} = \\Tr\\left[ \\Pi_{1} \\rho \\right].\n",
    "  \\end{align}\n",
    "  \n",
    "  \n",
    "  \n",
    "  \n",
    "\n",
    "\n"
   ]
  },
  {
   "cell_type": "markdown",
   "id": "145e3ffa",
   "metadata": {},
   "source": [
    "*Definimos la función en Matlab, que genera el estado $\\rho$ de un fotón con polatización $\\theta$:*"
   ]
  },
  {
   "cell_type": "code",
   "execution_count": 1,
   "id": "cba434a4",
   "metadata": {},
   "outputs": [],
   "source": [
    "function [rho] = foton(theta)\n",
    "  rho = [cos(theta); sin(theta)]*[cos(theta); sin(theta)]';\n",
    "end"
   ]
  },
  {
   "cell_type": "markdown",
   "id": "c59ec0db",
   "metadata": {},
   "source": [
    "*y consideramos la siguiente inicialización, común a todos los apartados:*"
   ]
  },
  {
   "cell_type": "code",
   "execution_count": 2,
   "id": "d8b1b1c1",
   "metadata": {},
   "outputs": [],
   "source": [
    "Pi0 = [1 0;0 0];\n",
    "Pi1 = [0 0;0 1];"
   ]
  },
  {
   "cell_type": "markdown",
   "id": "8613ec7c",
   "metadata": {},
   "source": [
    "**1.1.** Considere un fotón con $\\theta=0$.\n",
    "Obtenga las probabilidades $\\Pr\\{\\leftrightarrow\\}$, $\\Pr\\{\\updownarrow\\}$ y explique el resultado."
   ]
  },
  {
   "cell_type": "code",
   "execution_count": 3,
   "id": "737b5b1a",
   "metadata": {},
   "outputs": [
    {
     "name": "stdout",
     "output_type": "stream",
     "text": [
      "rho =\n",
      "\n",
      "   1   0\n",
      "   0   0\n",
      "\n",
      "ej11_p0 = 1\n",
      "ej11_p1 = 0\n"
     ]
    }
   ],
   "source": [
    "rho = foton(0)\n",
    "ej11_p0 = trace(Pi0*rho)\n",
    "ej11_p1 = trace(Pi1*rho)"
   ]
  },
  {
   "cell_type": "markdown",
   "id": "3317f7f9",
   "metadata": {},
   "source": [
    "> *Se obtiene que la probabilidad de medir $\\leftrightarrow$ es $\\Pr\\{\\leftrightarrow\\}=1$,\n",
    "mientras que la probabilidad de medir $\\updownarrow$ es $\\Pr\\{\\updownarrow\\}=0$.\n",
    "Esto es así porque se trata de un fotón con polarización horizontal $\\theta = 0 = \\leftrightarrow$,\n",
    "por lo que siempre se activa el detector correspondiente de forma determinista.*"
   ]
  },
  {
   "cell_type": "markdown",
   "id": "451878bc",
   "metadata": {},
   "source": [
    "**1.2.** Considere un fotón con $\\theta=\\pi/4$.\n",
    "Obtenga las probabilidades $\\Pr\\{\\leftrightarrow\\}$, $\\Pr\\{\\updownarrow\\}$ y explique el resultado."
   ]
  },
  {
   "cell_type": "code",
   "execution_count": 4,
   "id": "cd8a4c19",
   "metadata": {},
   "outputs": [
    {
     "name": "stdout",
     "output_type": "stream",
     "text": [
      "rho =\n",
      "\n",
      "   0.5000   0.5000\n",
      "   0.5000   0.5000\n",
      "\n",
      "ej12_p0 = 0.5000\n",
      "ej12_p1 = 0.5000\n"
     ]
    }
   ],
   "source": [
    "rho = foton(pi/4)\n",
    "ej12_p0 = trace(Pi0*rho)\n",
    "ej12_p1 = trace(Pi1*rho)"
   ]
  },
  {
   "cell_type": "markdown",
   "id": "e7fecfe0",
   "metadata": {},
   "source": [
    "> *Las probabilidades de medir $\\leftrightarrow$ y $\\updownarrow$ son $\\Pr\\{\\leftrightarrow\\}=\\Pr\\{\\updownarrow\\}=1/2$.\n",
    "En este caso estamos midiendo un fotón con polarización diagonal $\\theta = \\pi/4$.\n",
    "Así obtendremos cada uno de los posibles resultados la mitad de las veces de forma aleatoria.\n",
    "Se debe resaltar, que a pesar tener una polarización diagonal, en este proceso de medida cuántico\n",
    "los únicos resultados posibles son $\\leftrightarrow$ o $\\updownarrow$.*"
   ]
  },
  {
   "cell_type": "markdown",
   "id": "318ff567",
   "metadata": {},
   "source": [
    "## 2. Simulando el experimento\n",
    "\n",
    "Para un fotón arbitrario $\\rho$, vamos a simular ahora el proceso de medida completo, que debe resultar en un resultado discreto $\\leftrightarrow$ o $\\updownarrow$.\n",
    "Programe una función que tome como parámetro de entrada la matriz $\\rho$, y que devuelva una variable que indique si la medida\n",
    "ha resultado en $\\leftrightarrow$ o $\\updownarrow$.\n",
    "Para ello, en la función:\n",
    "\n",
    "- Calcule las probabilidades $p_0 = \\Pr\\{\\leftrightarrow\\}$ y $p_1 = \\Pr\\{\\updownarrow\\}$.\n",
    "- Genere una realización de una variable aleatoria binaria igual a '$0$' con probabilidad $p_0$ e igual a '$1$' con probabilidad $p_1$. Es decir, una realización de una distribución Bernoulli con estos parámetros.\n",
    "- Devuelva el resultado binario $m\\in\\{0,1\\}$ de la medida realizada."
   ]
  },
  {
   "cell_type": "code",
   "execution_count": 5,
   "id": "265173b3",
   "metadata": {},
   "outputs": [],
   "source": [
    "function [medida] = medida_estado(rho, Pi0, Pi1)\n",
    "  p1 = trace(Pi1*rho); % p0 = trace(Pi0*rho), pero no hace falta\n",
    "  medida = rand<p1;    % devuelve 1 si rand<p1 y 0 en otro caso.\n",
    "end"
   ]
  },
  {
   "cell_type": "markdown",
   "id": "e14510ca",
   "metadata": {},
   "source": [
    "Utilice la función anterior para responder las siguientes cuestiones:\n",
    "\n",
    "**2.1.** Simule $100$ ejecuciones del experimento en el que se genera un fotón $\\rho = \\ket{\\theta}\\bra{\\theta}$ con $\\theta=0$ y se procede a su medida. Almacene los resultados obtenidos en un vector y muéstrelos en un histograma.\n",
    "  "
   ]
  },
  {
   "cell_type": "code",
   "execution_count": 6,
   "id": "32eb20f3",
   "metadata": {},
   "outputs": [
    {
     "data": {
      "image/png": "[encoded data removed]",
      "text/plain": [
       "<IPython.core.display.Image object>"
      ]
     },
     "metadata": {},
     "output_type": "display_data"
    }
   ],
   "source": [
    "N = 100; medidas = zeros(1,N);\n",
    "for i=1:N,\n",
    "    rho = foton(0);\n",
    "    medidas(i) = medida_estado(rho, Pi0, Pi1);\n",
    "end\n",
    "figure(31); hist(medidas, [0,1]);\n",
    "axis([-0.5 1.5 0 100]); grid on;"
   ]
  },
  {
   "cell_type": "markdown",
   "id": "789eada6",
   "metadata": {},
   "source": [
    "> *Se debe tener en cuenta que este código simula un proceso de medida real, y que por tanto el resultado es binario. Para un fotón dado, `medida_estado` devuelve un único bit. Para estimar las correspondientes probabilidades de observación, repetimos el experimento 100 veces y mostramos el histograma resultante.*\n",
    "> \n",
    "> *Se puede ver que se obtiene el resultado predicho en el Apartado 1.1. Para un fotón con polarización horizontal $\\leftrightarrow$, una medida con respecto a la base $\\leftrightarrow$/$\\updownarrow$ siempre da el resultado asociado a esta polarización que en el código anterior se corresponde con el estado *'$\\,0$'*.*"
   ]
  },
  {
   "cell_type": "markdown",
   "id": "26a22edd",
   "metadata": {},
   "source": [
    "**2.2.** Simule ahora $100$ ejecuciones de un experimento en el que el fotón a medir está dado por $\\rho = \\ket{\\theta}\\bra{\\theta}$ con $\\theta=\\pi/4$. Almacene y muestre los resultados obtenidos en un histograma. ¿Coinciden las frecuencias observadas con las probabilidades calculadas en el Apartado 2.1? Explique las diferencias, en caso de existir. \n"
   ]
  },
  {
   "cell_type": "code",
   "execution_count": 7,
   "id": "acc9e0f4",
   "metadata": {},
   "outputs": [
    {
     "data": {
      "image/png": "[encoded data removed]",
      "text/plain": [
       "<IPython.core.display.Image object>"
      ]
     },
     "metadata": {},
     "output_type": "display_data"
    }
   ],
   "source": [
    "N = 100; medidas = zeros(1,N);\n",
    "for i=1:N,\n",
    "    rho = foton(pi/4);\n",
    "    medidas(i) = medida_estado(rho, Pi0, Pi1);\n",
    "end\n",
    "figure(32); hist(medidas,[0,1]);\n",
    "axis([-0.5 1.5 0 100]); grid on;"
   ]
  },
  {
   "cell_type": "markdown",
   "id": "795fb95e",
   "metadata": {},
   "source": [
    ">*En este caso, para cada realización del experimento generamos un fotón con polarización $\\theta=\\pi/4$. Se puede ver que en este caso obtenemos medidas aleatorias de las dos polarizaciones $\\leftrightarrow$/$\\updownarrow$, como muestra el histograma para $N=100$ repeticiones.*\n",
    ">\n",
    ">*Aunque los resultados se aproximan a las probabilidades predichas en el Apartado 1.2, existen pequeñas variaciones debido al limitado número de realizaciones. Si se incrementa el número de repeticiones $N$, las frecuencias de los eventos convergerán a sus probabilidades teóricas debido a la ley de los grandes números.*"
   ]
  },
  {
   "cell_type": "markdown",
   "id": "53858acb",
   "metadata": {},
   "source": [
    "## 3. Medida de un estado mixto\n",
    "\n",
    "Considere ahora un fotón que puede presentar una de las polarizaciones $\\theta_1$ o $\\theta_2$ con la misma probabilidad,\n",
    "aunque no conocemos  cuál. Su matriz de densidad de probabilidad asociada está dada por\n",
    "  \\begin{align}\n",
    "    \\rho = \\frac{1}{2} \\ket{\\theta_1} \\bra{\\theta_1} + \\frac{1}{2} \\ket{\\theta_2} \\bra{\\theta_2}.\n",
    "  \\end{align}\n",
    "Responda a las siguientes cuestiones, indicando el código empleado en su resolución:\n",
    "\n",
    "**3.1.** Para $\\theta_1=0$ y $\\theta_2=\\pi$, obtenga las probabilidades $\\Pr\\{\\leftrightarrow\\}$ y $\\Pr\\{\\updownarrow\\}$. Antes de su medida, ¿se encuentra el fotón $\\rho$ en el mismo estado que en el Apartado 1.1? Justifique la respuesta."
   ]
  },
  {
   "cell_type": "code",
   "execution_count": 8,
   "id": "88c4633e",
   "metadata": {},
   "outputs": [
    {
     "name": "stdout",
     "output_type": "stream",
     "text": [
      "rho =\n",
      "\n",
      "   1.0000e+00  -6.1230e-17\n",
      "  -6.1230e-17   7.4983e-33\n",
      "\n",
      "ej31_p0 = 1\n",
      "ej31_p1 = 7.4983e-33\n",
      "rho_0 =\n",
      "\n",
      "   1   0\n",
      "   0   0\n",
      "\n"
     ]
    }
   ],
   "source": [
    "rho = 1/2*foton(0)+1/2*foton(pi)\n",
    "ej31_p0 = trace(Pi0*rho)\n",
    "ej31_p1 = trace(Pi1*rho)\n",
    "rho_0 = foton(0)"
   ]
  },
  {
   "cell_type": "markdown",
   "id": "9ebb8346",
   "metadata": {},
   "source": [
    ">*Se obtiene $\\Pr\\{\\leftrightarrow\\}=0$ y $\\Pr\\{\\updownarrow\\}=1$, como en el Apartado 1.1. Si analizamos la matriz $\\rho$ se puede ver que (salvo variaciones debido a la precisión numérica de Matlab):*\n",
    ">\n",
    ">$$\\rho = \\begin{bmatrix}1 & 0\\\\ 0 & 0\\end{bmatrix}$$\n",
    ">\n",
    ">*que coincide con el estado cuántico definido en el Apartado 1.1. Esto es así porque las polarizaciones $\\theta_1=0$ y $\\theta_2=\\pi$ se corresponden en ambos casos a un fotón con polarización horizontal (en un sistema cuántico no se puede distinguir con una medida si un fotón tiene una polarización $\\rightarrow$ o $\\leftarrow$).*"
   ]
  },
  {
   "cell_type": "markdown",
   "id": "152dadce",
   "metadata": {},
   "source": [
    "**3.2.** Para $\\theta_1=0$ y $\\theta_2=\\pi/2$,  obtenga las probabilidades $\\Pr\\{\\leftrightarrow\\}$ y $\\Pr\\{\\updownarrow\\}$. Antes de su medida, ¿se encuentra el fotón $\\rho$ en el mismo estado que en el Apartado 1.2? ¿Podría distinguir estos dos estados con una medida en la base $\\leftrightarrow$/$\\updownarrow$? ¿Y en alguna otra base?"
   ]
  },
  {
   "cell_type": "code",
   "execution_count": 9,
   "id": "11d8f3d3",
   "metadata": {},
   "outputs": [
    {
     "name": "stdout",
     "output_type": "stream",
     "text": [
      "rho =\n",
      "\n",
      "   5.0000e-01   3.0615e-17\n",
      "   3.0615e-17   5.0000e-01\n",
      "\n",
      "ej22_p0 = 0.5000\n",
      "ej22_p1 = 0.5000\n",
      "rho_pi4 =\n",
      "\n",
      "   0.5000   0.5000\n",
      "   0.5000   0.5000\n",
      "\n"
     ]
    }
   ],
   "source": [
    "rho = 1/2*foton(0)+1/2*foton(pi/2)\n",
    "ej22_p0 = trace(Pi0*rho)\n",
    "ej22_p1 = trace(Pi1*rho)\n",
    "rho_pi4 = foton(pi/4)"
   ]
  },
  {
   "cell_type": "markdown",
   "id": "75f8ff8f",
   "metadata": {},
   "source": [
    "> *Las probabilidades de medir $\\leftrightarrow$ y $\\updownarrow$ son $\\Pr\\{\\leftrightarrow\\}=\\Pr\\{\\updownarrow\\}=1/2$.*\n",
    "> *A pesar de que estas probabilidades coinciden con las obtenidas en el Apartado 1.2, en este caso no se trata del mismo estado cuántico. En el Apartado 1.2 teníamos el estado cuántico $\\rho = \\frac{1}{2}\\bigl[\\begin{smallmatrix}1 & 1\\\\ 1 & 1\\end{smallmatrix}\\bigr]$ y ahora, en cambio,*\n",
    ">$$\\rho = \\frac{1}{2}\\begin{bmatrix}1 & 0\\\\ 0 & 1\\end{bmatrix}.$$\n",
    ">\n",
    ">*A pesar de que las probabilidades de observar $\\leftrightarrow$ y $\\updownarrow$ son las mismas, no es lo mismo un fotón con polarización diagonal que una mezcla probabilística de fotones  con polarizaciones $\\leftrightarrow$ y $\\updownarrow$. En una base de medida diferente se podrían diferenciar los dos experimentos (por ejemplo, con la base considerada en el Apartado 5).*\n"
   ]
  },
  {
   "cell_type": "markdown",
   "id": "5b1e497c",
   "metadata": {},
   "source": [
    "## 4. Colapso de la función de onda\n",
    "\n",
    "Hasta ahora, al realizar la medida de un fotón, éste era descartado y un nuevo fotón era generado para la siguiente medida. Vamos a considerar ahora un experimento en el que un fotón se somete a dos medidas consecutivas:\n",
    "\n",
    "**4.1.** Considere el fotón $\\rho = \\ket{\\theta}\\bra{\\theta}$ con $\\theta=\\pi/4$. Asuma que se realiza su medida con respecto al POVM $\\bigl\\{\\Pi_{0}, \\Pi_{1}\\bigr\\}$ pero que no se observa su resultado. ¿Cuál es el nuevo estado $\\rho'$ tras esta medida? ¿Coincide con el estado original? ¿Puede explicar por qué?"
   ]
  },
  {
   "cell_type": "code",
   "execution_count": 10,
   "id": "a9a99300",
   "metadata": {},
   "outputs": [
    {
     "name": "stdout",
     "output_type": "stream",
     "text": [
      "rho =\n",
      "\n",
      "   0.5000   0.5000\n",
      "   0.5000   0.5000\n",
      "\n",
      "rho_prima =\n",
      "\n",
      "   0.5000        0\n",
      "        0   0.5000\n",
      "\n"
     ]
    }
   ],
   "source": [
    "rho = foton(pi/4)\n",
    "rho_prima = Pi0*rho*Pi0' + Pi1*rho*Pi1'"
   ]
  },
  {
   "cell_type": "markdown",
   "id": "e70d02ce",
   "metadata": {},
   "source": [
    ">*Se obtiene*\n",
    ">$$\\rho = \\frac{1}{2}\\begin{bmatrix}1 & 1\\\\ 1 & 1\\end{bmatrix},\\quad\\rho' = \\frac{1}{2}\\begin{bmatrix}1 & 0\\\\ 0 & 1\\end{bmatrix}.$$\n",
    ">\n",
    ">*Al realizar una medida en la base $\\leftrightarrow$/$\\updownarrow$, un fotón con polarización diagonal colapsa a una de esas dos posibilidades. Si no se observa el resultado, el fotón resultante es una mezcla probabilística de fotones con polarizaciones $\\leftrightarrow$ y $\\updownarrow$, tal y cómo se ha generado en el Apartado 3.2.*"
   ]
  },
  {
   "cell_type": "markdown",
   "id": "490a96e3",
   "metadata": {},
   "source": [
    "**4.2.** Considere ahora el fotón\n",
    "  \\begin{align}\n",
    "    \\rho = \\frac{1}{2} \\ket{\\theta_1} \\bra{\\theta_1} + \\frac{1}{2} \\ket{\\theta_2} \\bra{\\theta_2}.\n",
    "  \\end{align}\n",
    "  con $\\theta_1=0$ y $\\theta_2=\\pi/2$.\n",
    "  Asuma que se realiza su medida con respecto al POVM $\\bigl\\{\\Pi_{0}, \\Pi_{1}\\bigr\\}$ pero que no se observa su resultado.\n",
    "  ¿Cuál es el nuevo estado $\\rho'$ tras esta medida? ¿Coincide con el estado previo a la medida?\n",
    "  ¿Puede explicar por qué?"
   ]
  },
  {
   "cell_type": "code",
   "execution_count": 11,
   "id": "cfcb2e2b",
   "metadata": {},
   "outputs": [
    {
     "name": "stdout",
     "output_type": "stream",
     "text": [
      "rho =\n",
      "\n",
      "   5.0000e-01   3.0615e-17\n",
      "   3.0615e-17   5.0000e-01\n",
      "\n",
      "rho_prima =\n",
      "\n",
      "   0.5000        0\n",
      "        0   0.5000\n",
      "\n"
     ]
    }
   ],
   "source": [
    "rho = 1/2*foton(0)+1/2*foton(pi/2)\n",
    "rho_prima = Pi0*rho*Pi0' + Pi1*rho*Pi1'"
   ]
  },
  {
   "cell_type": "markdown",
   "id": "d6b90cf2",
   "metadata": {},
   "source": [
    ">*En este caso partimos de una mezcla probabilística de fotones con polarizaciones $\\leftrightarrow$ y $\\updownarrow$.\n",
    "Cuando aplicamos una medida en la base $\\leftrightarrow$/$\\updownarrow$, obtenemos*\n",
    ">\n",
    ">$$\\rho = \\frac{1}{2}\\begin{bmatrix}1 & 0\\\\ 0 & 1\\end{bmatrix},\\quad \\rho' = \\frac{1}{2}\\begin{bmatrix}1 & 0\\\\ 0 & 1\\end{bmatrix}.$$\n",
    ">\n",
    ">*Vemos que el estado no cambia porque la medida se realiza alineada con los fotones que teníamos en primer lugar.*"
   ]
  },
  {
   "cell_type": "markdown",
   "id": "6b4d752b",
   "metadata": {},
   "source": [
    "## 5. Bases de medida (ejercicio opcional)\n",
    "\n",
    "En los previos apartados se ha considerado siempre una medida con respecto a la base $\\leftrightarrow$/$\\updownarrow$.\n",
    "Sin embargo, podría diseñarse un montaje experimental para otras bases de medida. Por ejemplo, considere el POVM\n",
    "  \\begin{align}\n",
    "      \\Pi_{+} &= \\frac{1}{2}\\biggl[\\begin{matrix} +1&+1\\\\+1&+1 \\end{matrix}\\biggr]\n",
    "       &\\text{(polarización diagonal),}\\\\\n",
    "      \\Pi_{-} &= \\frac{1}{2}\\biggl[\\begin{matrix} +1&-1\\\\-1&+1 \\end{matrix}\\biggr]\n",
    "       &\\text{(polarización diagonal cruzada).}\n",
    "  \\end{align}\n",
    "\n",
    "**5.1.** Repita el Ejercicio 1 con esta nueva base de medida. Explique las diferencias observadas.\n",
    "\n",
    "**5.2.** Repita el Ejercicio 4 con esta nueva base de medida. Explique las diferencias observadas.\n"
   ]
  },
  {
   "cell_type": "code",
   "execution_count": null,
   "id": "0ed84b52",
   "metadata": {},
   "outputs": [],
   "source": []
  }
 ],
 "metadata": {
  "kernelspec": {
   "display_name": "Octave",
   "language": "octave",
   "name": "octave"
  },
  "language_info": {
   "file_extension": ".m",
   "help_links": [
    {
     "text": "GNU Octave",
     "url": "https://www.gnu.org/software/octave/support.html"
    },
    {
     "text": "Octave Kernel",
     "url": "https://github.com/Calysto/octave_kernel"
    },
    {
     "text": "MetaKernel Magics",
     "url": "https://metakernel.readthedocs.io/en/latest/source/README.html"
    }
   ],
   "mimetype": "text/x-octave",
   "name": "octave",
   "version": "8.2.0"
  }
 },
 "nbformat": 4,
 "nbformat_minor": 5
}
